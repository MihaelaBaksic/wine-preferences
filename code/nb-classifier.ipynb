{
 "cells": [
  {
   "cell_type": "markdown",
   "id": "dc3a1e83",
   "metadata": {
    "papermill": {
     "duration": 0.003548,
     "end_time": "2022-10-06T10:08:27.775501",
     "exception": false,
     "start_time": "2022-10-06T10:08:27.771953",
     "status": "completed"
    },
    "tags": []
   },
   "source": [
    "# Naive Bayes Method"
   ]
  },
  {
   "cell_type": "code",
   "execution_count": 1,
   "id": "dba65c50",
   "metadata": {
    "execution": {
     "iopub.execute_input": "2022-10-06T10:08:27.783480Z",
     "iopub.status.busy": "2022-10-06T10:08:27.783006Z",
     "iopub.status.idle": "2022-10-06T10:08:28.985145Z",
     "shell.execute_reply": "2022-10-06T10:08:28.983965Z"
    },
    "papermill": {
     "duration": 1.210409,
     "end_time": "2022-10-06T10:08:28.988655",
     "exception": false,
     "start_time": "2022-10-06T10:08:27.778246",
     "status": "completed"
    },
    "tags": []
   },
   "outputs": [],
   "source": [
    "import numpy as np\n",
    "import pandas as pd\n",
    "from sklearn.naive_bayes import MultinomialNB\n",
    "from sklearn.metrics import accuracy_score, f1_score\n",
    "from sklearn.pipeline import make_pipeline\n",
    "from sklearn.feature_extraction.text import TfidfVectorizer"
   ]
  },
  {
   "cell_type": "code",
   "execution_count": 2,
   "id": "c981a3dd",
   "metadata": {
    "execution": {
     "iopub.execute_input": "2022-10-06T10:08:28.995591Z",
     "iopub.status.busy": "2022-10-06T10:08:28.995147Z",
     "iopub.status.idle": "2022-10-06T10:09:18.290242Z",
     "shell.execute_reply": "2022-10-06T10:09:18.289009Z"
    },
    "papermill": {
     "duration": 49.306314,
     "end_time": "2022-10-06T10:09:18.297626",
     "exception": false,
     "start_time": "2022-10-06T10:08:28.991312",
     "status": "completed"
    },
    "tags": []
   },
   "outputs": [
    {
     "name": "stdout",
     "output_type": "stream",
     "text": [
      "CPU times: user 32.7 s, sys: 2.37 s, total: 35.1 s\n",
      "Wall time: 49.3 s\n"
     ]
    },
    {
     "data": {
      "text/html": [
       "<div>\n",
       "<style scoped>\n",
       "    .dataframe tbody tr th:only-of-type {\n",
       "        vertical-align: middle;\n",
       "    }\n",
       "\n",
       "    .dataframe tbody tr th {\n",
       "        vertical-align: top;\n",
       "    }\n",
       "\n",
       "    .dataframe thead th {\n",
       "        text-align: right;\n",
       "    }\n",
       "</style>\n",
       "<table border=\"1\" class=\"dataframe\">\n",
       "  <thead>\n",
       "    <tr style=\"text-align: right;\">\n",
       "      <th></th>\n",
       "      <th>label</th>\n",
       "      <th>text</th>\n",
       "    </tr>\n",
       "  </thead>\n",
       "  <tbody>\n",
       "    <tr>\n",
       "      <th>0</th>\n",
       "      <td>0</td>\n",
       "      <td>got book free format get nerv text justifi pai...</td>\n",
       "    </tr>\n",
       "    <tr>\n",
       "      <th>1</th>\n",
       "      <td>1</td>\n",
       "      <td>movi watch great bunch terrif actor tom hank b...</td>\n",
       "    </tr>\n",
       "    <tr>\n",
       "      <th>2</th>\n",
       "      <td>0</td>\n",
       "      <td>easili worst aerosmith album ever record apart...</td>\n",
       "    </tr>\n",
       "    <tr>\n",
       "      <th>3</th>\n",
       "      <td>0</td>\n",
       "      <td>like actor see everi movi good movi depp seem ...</td>\n",
       "    </tr>\n",
       "    <tr>\n",
       "      <th>4</th>\n",
       "      <td>1</td>\n",
       "      <td>like movi lot particular like pace film interp...</td>\n",
       "    </tr>\n",
       "  </tbody>\n",
       "</table>\n",
       "</div>"
      ],
      "text/plain": [
       "   label                                               text\n",
       "0      0  got book free format get nerv text justifi pai...\n",
       "1      1  movi watch great bunch terrif actor tom hank b...\n",
       "2      0  easili worst aerosmith album ever record apart...\n",
       "3      0  like actor see everi movi good movi depp seem ...\n",
       "4      1  like movi lot particular like pace film interp..."
      ]
     },
     "execution_count": 2,
     "metadata": {},
     "output_type": "execute_result"
    }
   ],
   "source": [
    "%%time\n",
    "train_cleaned = pd.read_csv('../input/wine-preferences/train_cleaned.csv', converters={\"text\": lambda x: ' '.join(x.strip(\"[]\").replace(\"'\", '').split(\", \"))}, index_col=0)\n",
    "train_cleaned = train_cleaned.sample(frac=1).reset_index(drop=True)\n",
    "train_cleaned.head()"
   ]
  },
  {
   "cell_type": "code",
   "execution_count": 3,
   "id": "a2033cfa",
   "metadata": {
    "execution": {
     "iopub.execute_input": "2022-10-06T10:09:18.307122Z",
     "iopub.status.busy": "2022-10-06T10:09:18.306548Z",
     "iopub.status.idle": "2022-10-06T10:11:54.991427Z",
     "shell.execute_reply": "2022-10-06T10:11:54.990172Z"
    },
    "papermill": {
     "duration": 156.695738,
     "end_time": "2022-10-06T10:11:54.996640",
     "exception": false,
     "start_time": "2022-10-06T10:09:18.300902",
     "status": "completed"
    },
    "tags": []
   },
   "outputs": [
    {
     "name": "stdout",
     "output_type": "stream",
     "text": [
      "CPU times: user 2min 32s, sys: 3.78 s, total: 2min 36s\n",
      "Wall time: 2min 36s\n"
     ]
    },
    {
     "data": {
      "text/plain": [
       "Pipeline(steps=[('tfidfvectorizer', TfidfVectorizer()),\n",
       "                ('multinomialnb', MultinomialNB())])"
      ]
     },
     "execution_count": 3,
     "metadata": {},
     "output_type": "execute_result"
    }
   ],
   "source": [
    "%%time\n",
    "X_train = train_cleaned[\"text\"]\n",
    "y_train = train_cleaned[\"label\"]\n",
    "model = make_pipeline(TfidfVectorizer(),MultinomialNB())\n",
    "\n",
    "# Training the model with the training data\n",
    "model.fit(X_train, y_train)"
   ]
  },
  {
   "cell_type": "code",
   "execution_count": 4,
   "id": "9522aa7a",
   "metadata": {
    "execution": {
     "iopub.execute_input": "2022-10-06T10:11:55.004940Z",
     "iopub.status.busy": "2022-10-06T10:11:55.004505Z",
     "iopub.status.idle": "2022-10-06T10:12:16.780808Z",
     "shell.execute_reply": "2022-10-06T10:12:16.779391Z"
    },
    "papermill": {
     "duration": 21.783903,
     "end_time": "2022-10-06T10:12:16.783507",
     "exception": false,
     "start_time": "2022-10-06T10:11:54.999604",
     "status": "completed"
    },
    "tags": []
   },
   "outputs": [
    {
     "name": "stdout",
     "output_type": "stream",
     "text": [
      "[1 1 0 ... 0 1 0]\n"
     ]
    }
   ],
   "source": [
    "test_cleaned = pd.read_csv('../input/wine-preferences/test_cleaned.csv', converters={\"text\": lambda x: ' '.join(x.strip(\"[]\").replace(\"'\", '').split(\", \"))}, index_col=0)\n",
    "test_cleaned = test_cleaned.sample(frac=1).reset_index(drop=True)\n",
    "\n",
    "X_test = test_cleaned[\"text\"]\n",
    "predicted_categories = model.predict(X_test)\n",
    "print(predicted_categories)"
   ]
  },
  {
   "cell_type": "code",
   "execution_count": 5,
   "id": "3a12f7dc",
   "metadata": {
    "execution": {
     "iopub.execute_input": "2022-10-06T10:12:16.792733Z",
     "iopub.status.busy": "2022-10-06T10:12:16.791114Z",
     "iopub.status.idle": "2022-10-06T10:12:16.847103Z",
     "shell.execute_reply": "2022-10-06T10:12:16.845459Z"
    },
    "papermill": {
     "duration": 0.063514,
     "end_time": "2022-10-06T10:12:16.850131",
     "exception": false,
     "start_time": "2022-10-06T10:12:16.786617",
     "status": "completed"
    },
    "tags": []
   },
   "outputs": [
    {
     "data": {
      "text/plain": [
       "0.81423"
      ]
     },
     "execution_count": 5,
     "metadata": {},
     "output_type": "execute_result"
    }
   ],
   "source": [
    "accuracy_score(predicted_categories, test_cleaned['label'])"
   ]
  }
 ],
 "metadata": {
  "kernelspec": {
   "display_name": "Python 3",
   "language": "python",
   "name": "python3"
  },
  "language_info": {
   "codemirror_mode": {
    "name": "ipython",
    "version": 3
   },
   "file_extension": ".py",
   "mimetype": "text/x-python",
   "name": "python",
   "nbconvert_exporter": "python",
   "pygments_lexer": "ipython3",
   "version": "3.7.12"
  },
  "papermill": {
   "default_parameters": {},
   "duration": 241.642157,
   "end_time": "2022-10-06T10:12:18.883961",
   "environment_variables": {},
   "exception": null,
   "input_path": "__notebook__.ipynb",
   "output_path": "__notebook__.ipynb",
   "parameters": {},
   "start_time": "2022-10-06T10:08:17.241804",
   "version": "2.3.4"
  }
 },
 "nbformat": 4,
 "nbformat_minor": 5
}
