{
 "cells": [
  {
   "cell_type": "code",
   "execution_count": null,
   "metadata": {},
   "outputs": [],
   "source": [
    "# append all the json files in one dataframe and remove duplicates\n",
    "import os\n",
    "\n",
    "folder = os.listdir('scraped_tweets')\n",
    "\n",
    "for file in folder:\n",
    "    df = pd.read_json('scraped_tweets/'+file) #load the file\n",
    "    print(file, len(df))\n",
    "    \n",
    "    data = data.append(df, ignore_index=True)\n",
    "\n",
    "print('number of tweets before duplicates removal', len(data))\n",
    "data = data.drop_duplicates(subset = ['text']) # remove duplicate lines\n",
    "print('number of tweets after duplicates removal', len(data))"
   ]
  },
  {
   "cell_type": "code",
   "execution_count": 1,
   "metadata": {},
   "outputs": [
    {
     "name": "stdout",
     "output_type": "stream",
     "text": [
      "Requirement already satisfied: cleantext in /home/aina/tmp/PATH/lib/python3.7/site-packages (1.1.4)\n",
      "Requirement already satisfied: nltk in /home/aina/tmp/PATH/lib/python3.7/site-packages (from cleantext) (3.4.4)\n",
      "Requirement already satisfied: six in /home/aina/tmp/PATH/lib/python3.7/site-packages (from nltk->cleantext) (1.12.0)\n",
      "\u001b[33mWARNING: You are using pip version 22.0.3; however, version 22.2.2 is available.\n",
      "You should consider upgrading via the '/home/aina/tmp/PATH/bin/python -m pip install --upgrade pip' command.\u001b[0m\u001b[33m\n",
      "\u001b[0mNote: you may need to restart the kernel to use updated packages.\n"
     ]
    }
   ],
   "source": [
    "pip install cleantext"
   ]
  },
  {
   "cell_type": "code",
   "execution_count": 2,
   "metadata": {},
   "outputs": [],
   "source": [
    "# import modules\n",
    "import pandas as pd"
   ]
  },
  {
   "cell_type": "markdown",
   "metadata": {},
   "source": [
    "### Cleaning"
   ]
  },
  {
   "cell_type": "code",
   "execution_count": 3,
   "metadata": {},
   "outputs": [],
   "source": [
    "import string\n",
    "import re\n",
    "from nltk.tokenize import word_tokenize\n",
    "from nltk.corpus import stopwords\n",
    "\n",
    "\n",
    "emoji_pattern = re.compile(\"[\"\n",
    "        u\"\\U00002700-\\U000027BF\"  # Dingbats\n",
    "        u\"\\U0001F600-\\U0001F64F\"  # Emoticons\n",
    "        u\"\\U00002600-\\U000026FF\"  # Miscellaneous Symbols\n",
    "        u\"\\U0001F300-\\U0001F5FF\"  # Miscellaneous Symbols And Pictographs\n",
    "        u\"\\U0001F900-\\U0001F9FF\"  # Supplemental Symbols and Pictographs\n",
    "        u\"\\U0001FA70-\\U0001FAFF\"  # Symbols and Pictographs Extended-A\n",
    "        u\"\\U0001F680-\\U0001F6FF\"  # Transport and Map Symbols\n",
    "                      \"]+\", re.UNICODE)\n",
    "\n",
    "en_stopwords = stopwords.words('english')\n",
    "\n",
    "def clean(text):\n",
    "    text = text.lower() #lowercase\n",
    "    text = text.replace('<br /><br />', ' ') # deletes br\n",
    "    text = text.translate(str.maketrans('', '', string.punctuation)) #deletes punctuation\n",
    "    text = text.translate(str.maketrans('', '', '1234567890')) #deletes numbers\n",
    "    text = emoji_pattern.sub(r'', text) #deletes emojis\n",
    "    \n",
    "    # Tokenize the tweet\n",
    "    tokens = word_tokenize(text)\n",
    "    \n",
    "    # Remove stopwords\n",
    "    clean_text = [word for word in tokens if word not in en_stopwords]\n",
    "    \n",
    "    return ' '.join(clean_text)"
   ]
  },
  {
   "cell_type": "code",
   "execution_count": 5,
   "metadata": {
    "scrolled": true
   },
   "outputs": [
    {
     "name": "stdout",
     "output_type": "stream",
     "text": [
      "scraped_tweets_wine.json 1000\n",
      "scraped_tweets_winereview2.json 65\n",
      "scraped_tweets_winechat.json 0\n",
      "scraped_tweets_winelover.json 1326\n",
      "scraped_tweets_badwine.json 0\n",
      "scraped_tweets_sonomachat.json 3\n",
      "scraped_tweets_wine2.json 10000\n",
      "scraped_tweets_winereview.json 67\n",
      "scraped_tweets_goodwine.json 6\n",
      "scraped_tweets_worstwine.json 0\n",
      "scraped_tweets_bestwine.json 28\n",
      "scraped_tweets_wine3.json 766\n",
      "scraped_tweets_winewednesday.json 410\n",
      "scraped_tweets_wine4.json 5171\n",
      "number of tweets before duplicates removal 18842\n",
      "number of tweets after duplicates removal 6524\n"
     ]
    }
   ],
   "source": [
    "# append all the json files in one dataframe and remove duplicates\n",
    "import os\n",
    "\n",
    "folder = os.listdir('scraped_tweets')\n",
    "data = pd.DataFrame(columns = ['username', 'description', 'date', 'location', 'following', 'followers',\n",
    "       'totaltweets', 'retweet', 'retweetcount', 'text', 'hashtags'])\n",
    "\n",
    "for file in folder:\n",
    "    df = pd.read_json('scraped_tweets/'+file) #load the file\n",
    "    print(file, len(df))\n",
    "    \n",
    "    data = data.append(df, ignore_index=True)\n",
    "\n",
    "print('number of tweets before duplicates removal', len(data))\n",
    "data = data.drop_duplicates(subset = ['text']) # remove duplicate lines\n",
    "print('number of tweets after duplicates removal', len(data))"
   ]
  },
  {
   "cell_type": "code",
   "execution_count": 9,
   "metadata": {},
   "outputs": [],
   "source": [
    "# clean all the tweets in the dataframe\n",
    "clean_text = []\n",
    "for text in data['text']:\n",
    "    \n",
    "    c_text = clean(text)\n",
    "    clean_text.append(c_text)\n",
    "    \n",
    "data['text'] = clean_text"
   ]
  },
  {
   "cell_type": "code",
   "execution_count": 10,
   "metadata": {},
   "outputs": [],
   "source": [
    "# save the clean dataframe in a file\n",
    "data.to_json('clean_tweets.json')"
   ]
  },
  {
   "cell_type": "markdown",
   "metadata": {},
   "source": [
    "### Load Clean Dataset"
   ]
  },
  {
   "cell_type": "code",
   "execution_count": 11,
   "metadata": {},
   "outputs": [
    {
     "name": "stdout",
     "output_type": "stream",
     "text": [
      "dataframe length: 6524\n"
     ]
    },
    {
     "data": {
      "text/plain": [
       "Index(['username', 'description', 'date', 'location', 'following', 'followers',\n",
       "       'totaltweets', 'retweet', 'retweetcount', 'text', 'hashtags'],\n",
       "      dtype='object')"
      ]
     },
     "execution_count": 11,
     "metadata": {},
     "output_type": "execute_result"
    }
   ],
   "source": [
    "df = pd.read_json(\"clean_tweets.json\")\n",
    "print('dataframe length:', len(df))\n",
    "df.columns"
   ]
  },
  {
   "cell_type": "markdown",
   "metadata": {},
   "source": [
    "### Frequency of words"
   ]
  },
  {
   "cell_type": "code",
   "execution_count": 4,
   "metadata": {},
   "outputs": [
    {
     "name": "stderr",
     "output_type": "stream",
     "text": [
      "[nltk_data] Downloading package wordnet to /home/aina/nltk_data...\n",
      "[nltk_data]   Package wordnet is already up-to-date!\n"
     ]
    },
    {
     "data": {
      "text/plain": [
       "True"
      ]
     },
     "execution_count": 4,
     "metadata": {},
     "output_type": "execute_result"
    }
   ],
   "source": [
    "import nltk\n",
    "nltk.download('wordnet')"
   ]
  },
  {
   "cell_type": "code",
   "execution_count": 12,
   "metadata": {},
   "outputs": [],
   "source": [
    "from nltk.stem import PorterStemmer\n",
    "from nltk.stem import WordNetLemmatizer\n",
    "\n",
    "stemmer = PorterStemmer() \n",
    "lemmatizer = WordNetLemmatizer()\n",
    "\n",
    "# Counts all the occurances of words in the given set of sentences\n",
    "# Returns a dict {word: #occurrences} for stemming and one for lemmatization\n",
    "# and the total number of occurrences\n",
    "def counter(s):\n",
    "    \n",
    "    d_stem = {} #empty dict\n",
    "    d_lemma = {}\n",
    "    total = 0 # number of seen words\n",
    "    \n",
    "    for sent in s['text']:\n",
    "        \n",
    "        text = word_tokenize(sent) # Tokenize the text\n",
    "        text = list(filter(lambda a: a != '', text)) # removes empty elements\n",
    "        \n",
    "        for w in text:\n",
    "            total += 1\n",
    "            \n",
    "            w_s = stemmer.stem(w)\n",
    "            w_l = lemmatizer.lemmatize(w)\n",
    "            \n",
    "            if w_s in d_stem: \n",
    "                d_stem[w_s] += 1\n",
    "            else:\n",
    "                d_stem[w_s] = 1\n",
    "                \n",
    "            if w_l in d_lemma: \n",
    "                d_lemma[w_l] += 1\n",
    "            else:\n",
    "                d_lemma[w_l] = 1\n",
    "                \n",
    "    return d_stem, d_lemma, total"
   ]
  },
  {
   "cell_type": "code",
   "execution_count": 13,
   "metadata": {},
   "outputs": [],
   "source": [
    "d_stem, d_lemma, total = counter(df)"
   ]
  },
  {
   "cell_type": "code",
   "execution_count": 14,
   "metadata": {},
   "outputs": [
    {
     "name": "stdout",
     "output_type": "stream",
     "text": [
      "Total number of differentwords (stemming): 26322\n",
      "Total number of differentwords (lemmatization): 28070\n",
      "Num of seen words 125028\n",
      "[('wine', 9665), ('winelov', 1184), ('bottl', 852), ('’', 676), ('amp', 670), ('glass', 625), ('art', 616), ('tast', 519), ('winetast', 496), ('etsysel', 478), ('set', 473), ('food', 469), ('beer', 464), ('winemak', 440), ('wineri', 435), ('new', 410), ('vineyard', 407), ('drink', 402), ('gift', 398), ('layer', 384), ('vintag', 383), ('redwin', 362), ('base', 342), ('repurposedupcycl', 338), ('red', 338), ('us', 335), ('travel', 317), ('love', 316), ('winewednesday', 313), ('vino', 298), ('champagn', 298), ('lover', 295), ('great', 291), ('scene', 278), ('day', 269), ('ad', 268), ('grape', 260), ('delici', 253), ('whitewin', 252), ('good', 251), ('whiski', 248), ('today', 247), ('get', 242), ('make', 240), ('one', 237), ('gtgtgt', 230), ('harvest', 226), ('chardonnay', 224), ('pinot', 223), ('enjoy', 221)]\n",
      "\n",
      "[('wine', 9661), ('bottle', 835), ('winelover', 819), ('’', 676), ('amp', 670), ('glass', 625), ('art', 614), ('winetasting', 485), ('etsyseller', 478), ('set', 472), ('food', 469), ('beer', 464), ('winery', 435), ('new', 410), ('vineyard', 407), ('gift', 396), ('tasting', 383), ('vintage', 383), ('layered', 373), ('redwine', 361), ('winelovers', 352), ('base', 340), ('repurposedupcycled', 338), ('red', 338), ('u', 337), ('winewednesday', 313), ('vino', 298), ('champagne', 298), ('lover', 295), ('great', 291), ('travel', 286), ('scene', 278), ('day', 269), ('grape', 259), ('whitewine', 252), ('delicious', 251), ('whisky', 248), ('today', 247), ('ad', 246), ('good', 246), ('one', 237), ('drink', 231), ('winemaker', 231), ('gtgtgt', 230), ('get', 227), ('chardonnay', 224), ('pinot', 223), ('october', 213), ('green', 209), ('winemaking', 209)]\n"
     ]
    }
   ],
   "source": [
    "print('Total number of differentwords (stemming):', len(d_stem))\n",
    "print('Total number of differentwords (lemmatization):', len(d_lemma))\n",
    "print('Num of seen words', total)\n",
    "\n",
    "sorted_d_stem = sorted(d_stem.items(), key=lambda item: item[1], reverse=True)\n",
    "sorted_d_lemma = sorted(d_lemma.items(), key=lambda item: item[1], reverse=True)\n",
    "\n",
    "print(sorted_d_stem[:50])\n",
    "print()\n",
    "print(sorted_d_lemma[:50])"
   ]
  },
  {
   "cell_type": "code",
   "execution_count": 16,
   "metadata": {},
   "outputs": [
    {
     "name": "stdout",
     "output_type": "stream",
     "text": [
      "('wine', 9665)\n",
      "('winelov', 1184)\n",
      "('bottl', 852)\n",
      "('’', 676)\n",
      "('amp', 670)\n",
      "('glass', 625)\n",
      "('art', 616)\n",
      "('tast', 519)\n",
      "('winetast', 496)\n",
      "('etsysel', 478)\n",
      "('set', 473)\n",
      "('food', 469)\n",
      "('beer', 464)\n",
      "('winemak', 440)\n",
      "('wineri', 435)\n",
      "('new', 410)\n",
      "('vineyard', 407)\n",
      "('drink', 402)\n",
      "('gift', 398)\n",
      "('layer', 384)\n",
      "('vintag', 383)\n",
      "('redwin', 362)\n",
      "('base', 342)\n",
      "('repurposedupcycl', 338)\n",
      "('red', 338)\n",
      "('us', 335)\n",
      "('travel', 317)\n",
      "('love', 316)\n",
      "('winewednesday', 313)\n",
      "('vino', 298)\n",
      "('champagn', 298)\n",
      "('lover', 295)\n",
      "('great', 291)\n",
      "('scene', 278)\n",
      "('day', 269)\n",
      "('ad', 268)\n",
      "('grape', 260)\n",
      "('delici', 253)\n",
      "('whitewin', 252)\n",
      "('good', 251)\n",
      "('whiski', 248)\n",
      "('today', 247)\n",
      "('get', 242)\n",
      "('make', 240)\n",
      "('one', 237)\n",
      "('gtgtgt', 230)\n",
      "('harvest', 226)\n",
      "('chardonnay', 224)\n",
      "('pinot', 223)\n",
      "('enjoy', 221)\n",
      "('octob', 214)\n",
      "('green', 212)\n",
      "('theriotstudio', 207)\n",
      "('rate', 207)\n",
      "('nft', 206)\n",
      "('oz', 205)\n",
      "('liquor', 202)\n",
      "('year', 196)\n",
      "('via', 195)\n",
      "('like', 195)\n",
      "('look', 195)\n",
      "('time', 191)\n",
      "('commun', 189)\n",
      "('star', 187)\n",
      "('recip', 186)\n",
      "('best', 181)\n",
      "('itali', 176)\n",
      "('winetim', 174)\n",
      "('countri', 168)\n",
      "('craftbeer', 166)\n",
      "('cabernet', 164)\n",
      "('ice', 164)\n",
      "('paper', 161)\n",
      "('vivino', 160)\n",
      "('white', 160)\n",
      "('join', 160)\n",
      "('come', 159)\n",
      "('mandala', 159)\n",
      "('know', 158)\n",
      "('cooler', 157)\n",
      "('world', 156)\n",
      "('visit', 153)\n",
      "('see', 150)\n",
      "('breweri', 150)\n",
      "('creationsbycasadi', 149)\n",
      "('happi', 147)\n",
      "('napa', 147)\n",
      "('beauti', 146)\n",
      "('check', 145)\n",
      "('friend', 144)\n",
      "('rt', 142)\n",
      "('music', 141)\n",
      "('noir', 141)\n",
      "('contain', 141)\n",
      "('cellar', 138)\n",
      "('experi', 138)\n",
      "('go', 137)\n",
      "('bucket', 136)\n",
      "('pair', 135)\n",
      "('spirit', 134)\n"
     ]
    }
   ],
   "source": [
    "for ele in sorted_d_stem[:100]:\n",
    "    print(ele)"
   ]
  }
 ],
 "metadata": {
  "kernelspec": {
   "display_name": "Python 3",
   "language": "python",
   "name": "python3"
  },
  "language_info": {
   "codemirror_mode": {
    "name": "ipython",
    "version": 3
   },
   "file_extension": ".py",
   "mimetype": "text/x-python",
   "name": "python",
   "nbconvert_exporter": "python",
   "pygments_lexer": "ipython3",
   "version": "3.7.3"
  }
 },
 "nbformat": 4,
 "nbformat_minor": 2
}
