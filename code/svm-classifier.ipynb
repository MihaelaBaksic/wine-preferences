{
 "cells": [
  {
   "cell_type": "markdown",
   "id": "9bac0b58",
   "metadata": {
    "papermill": {
     "duration": 0.005979,
     "end_time": "2022-10-12T10:54:36.646803",
     "exception": false,
     "start_time": "2022-10-12T10:54:36.640824",
     "status": "completed"
    },
    "tags": []
   },
   "source": [
    "## Baseline development"
   ]
  },
  {
   "cell_type": "code",
   "execution_count": 1,
   "id": "61c4780c",
   "metadata": {
    "execution": {
     "iopub.execute_input": "2022-10-12T10:54:36.660775Z",
     "iopub.status.busy": "2022-10-12T10:54:36.660187Z",
     "iopub.status.idle": "2022-10-12T10:54:38.066170Z",
     "shell.execute_reply": "2022-10-12T10:54:38.065316Z"
    },
    "papermill": {
     "duration": 1.416956,
     "end_time": "2022-10-12T10:54:38.068720",
     "exception": false,
     "start_time": "2022-10-12T10:54:36.651764",
     "status": "completed"
    },
    "tags": []
   },
   "outputs": [],
   "source": [
    "import numpy as np\n",
    "import pandas as pd\n",
    "from sklearn.feature_extraction.text import TfidfVectorizer\n",
    "from sklearn.svm import SVC\n",
    "from sklearn.metrics import accuracy_score, f1_score"
   ]
  },
  {
   "cell_type": "markdown",
   "id": "6fdee9f2",
   "metadata": {
    "papermill": {
     "duration": 0.004322,
     "end_time": "2022-10-12T10:54:38.077949",
     "exception": false,
     "start_time": "2022-10-12T10:54:38.073627",
     "status": "completed"
    },
    "tags": []
   },
   "source": [
    "### SVM"
   ]
  },
  {
   "cell_type": "code",
   "execution_count": 2,
   "id": "0d168bc8",
   "metadata": {
    "execution": {
     "iopub.execute_input": "2022-10-12T10:54:38.088871Z",
     "iopub.status.busy": "2022-10-12T10:54:38.088255Z",
     "iopub.status.idle": "2022-10-12T10:55:27.998303Z",
     "shell.execute_reply": "2022-10-12T10:55:27.997017Z"
    },
    "papermill": {
     "duration": 49.918494,
     "end_time": "2022-10-12T10:55:28.000986",
     "exception": false,
     "start_time": "2022-10-12T10:54:38.082492",
     "status": "completed"
    },
    "tags": []
   },
   "outputs": [],
   "source": [
    "train = pd.read_csv('../input/wine-preferences/train_cleaned.csv',converters={\"text\": lambda x: ' '.join(x.strip(\"[]\").replace(\"'\", '').split(\", \"))} , index_col=0)\n",
    "test = pd.read_csv('../input/wine-preferences/test_cleaned.csv',converters={\"text\": lambda x: ' '.join(x.strip(\"[]\").replace(\"'\", '').split(\", \"))} , index_col=0)"
   ]
  },
  {
   "cell_type": "code",
   "execution_count": 3,
   "id": "bbd20b56",
   "metadata": {
    "execution": {
     "iopub.execute_input": "2022-10-12T10:55:28.012818Z",
     "iopub.status.busy": "2022-10-12T10:55:28.012438Z",
     "iopub.status.idle": "2022-10-12T10:55:28.031501Z",
     "shell.execute_reply": "2022-10-12T10:55:28.029769Z"
    },
    "papermill": {
     "duration": 0.028104,
     "end_time": "2022-10-12T10:55:28.034333",
     "exception": false,
     "start_time": "2022-10-12T10:55:28.006229",
     "status": "completed"
    },
    "tags": []
   },
   "outputs": [
    {
     "data": {
      "text/html": [
       "<div>\n",
       "<style scoped>\n",
       "    .dataframe tbody tr th:only-of-type {\n",
       "        vertical-align: middle;\n",
       "    }\n",
       "\n",
       "    .dataframe tbody tr th {\n",
       "        vertical-align: top;\n",
       "    }\n",
       "\n",
       "    .dataframe thead th {\n",
       "        text-align: right;\n",
       "    }\n",
       "</style>\n",
       "<table border=\"1\" class=\"dataframe\">\n",
       "  <thead>\n",
       "    <tr style=\"text-align: right;\">\n",
       "      <th></th>\n",
       "      <th>label</th>\n",
       "      <th>text</th>\n",
       "    </tr>\n",
       "  </thead>\n",
       "  <tbody>\n",
       "    <tr>\n",
       "      <th>0</th>\n",
       "      <td>1</td>\n",
       "      <td>sound track beauti paint seneri mind well woul...</td>\n",
       "    </tr>\n",
       "    <tr>\n",
       "      <th>1</th>\n",
       "      <td>1</td>\n",
       "      <td>im read lot review say best game soundtrack fi...</td>\n",
       "    </tr>\n",
       "    <tr>\n",
       "      <th>2</th>\n",
       "      <td>1</td>\n",
       "      <td>soundtrack favorit music time hand intens sad ...</td>\n",
       "    </tr>\n",
       "    <tr>\n",
       "      <th>3</th>\n",
       "      <td>1</td>\n",
       "      <td>truli like soundtrack enjoy video game music p...</td>\n",
       "    </tr>\n",
       "    <tr>\n",
       "      <th>4</th>\n",
       "      <td>1</td>\n",
       "      <td>youv play game know divin music everi singl so...</td>\n",
       "    </tr>\n",
       "  </tbody>\n",
       "</table>\n",
       "</div>"
      ],
      "text/plain": [
       "   label                                               text\n",
       "0      1  sound track beauti paint seneri mind well woul...\n",
       "1      1  im read lot review say best game soundtrack fi...\n",
       "2      1  soundtrack favorit music time hand intens sad ...\n",
       "3      1  truli like soundtrack enjoy video game music p...\n",
       "4      1  youv play game know divin music everi singl so..."
      ]
     },
     "execution_count": 3,
     "metadata": {},
     "output_type": "execute_result"
    }
   ],
   "source": [
    "train.head()"
   ]
  },
  {
   "cell_type": "code",
   "execution_count": 4,
   "id": "87bc4ce8",
   "metadata": {
    "execution": {
     "iopub.execute_input": "2022-10-12T10:55:28.046860Z",
     "iopub.status.busy": "2022-10-12T10:55:28.046388Z",
     "iopub.status.idle": "2022-10-12T10:55:28.051559Z",
     "shell.execute_reply": "2022-10-12T10:55:28.050416Z"
    },
    "papermill": {
     "duration": 0.014302,
     "end_time": "2022-10-12T10:55:28.054058",
     "exception": false,
     "start_time": "2022-10-12T10:55:28.039756",
     "status": "completed"
    },
    "tags": []
   },
   "outputs": [],
   "source": [
    "train_num = 500"
   ]
  },
  {
   "cell_type": "code",
   "execution_count": 5,
   "id": "32355501",
   "metadata": {
    "execution": {
     "iopub.execute_input": "2022-10-12T10:55:28.066854Z",
     "iopub.status.busy": "2022-10-12T10:55:28.066416Z",
     "iopub.status.idle": "2022-10-12T10:57:46.221042Z",
     "shell.execute_reply": "2022-10-12T10:57:46.219249Z"
    },
    "papermill": {
     "duration": 138.167051,
     "end_time": "2022-10-12T10:57:46.226564",
     "exception": false,
     "start_time": "2022-10-12T10:55:28.059513",
     "status": "completed"
    },
    "tags": []
   },
   "outputs": [],
   "source": [
    "tfidf_vect = TfidfVectorizer(max_features=5000)\n",
    "tfidf_vect.fit(train['text'])\n",
    "\n",
    "\n",
    "train_X_Tfidf = tfidf_vect.transform(train['text'].iloc[0:train_num])\n"
   ]
  },
  {
   "cell_type": "code",
   "execution_count": 6,
   "id": "123038fb",
   "metadata": {
    "execution": {
     "iopub.execute_input": "2022-10-12T10:57:46.241756Z",
     "iopub.status.busy": "2022-10-12T10:57:46.241369Z",
     "iopub.status.idle": "2022-10-12T10:58:00.603442Z",
     "shell.execute_reply": "2022-10-12T10:58:00.602175Z"
    },
    "papermill": {
     "duration": 14.372126,
     "end_time": "2022-10-12T10:58:00.606354",
     "exception": false,
     "start_time": "2022-10-12T10:57:46.234228",
     "status": "completed"
    },
    "tags": []
   },
   "outputs": [],
   "source": [
    "test_X_Tfidf = tfidf_vect.transform(test['text'])"
   ]
  },
  {
   "cell_type": "code",
   "execution_count": 7,
   "id": "f94928df",
   "metadata": {
    "execution": {
     "iopub.execute_input": "2022-10-12T10:58:00.618340Z",
     "iopub.status.busy": "2022-10-12T10:58:00.617958Z",
     "iopub.status.idle": "2022-10-12T10:58:00.625195Z",
     "shell.execute_reply": "2022-10-12T10:58:00.624093Z"
    },
    "papermill": {
     "duration": 0.016476,
     "end_time": "2022-10-12T10:58:00.627940",
     "exception": false,
     "start_time": "2022-10-12T10:58:00.611464",
     "status": "completed"
    },
    "tags": []
   },
   "outputs": [
    {
     "data": {
      "text/plain": [
       "<500x5000 sparse matrix of type '<class 'numpy.float64'>'\n",
       "\twith 14860 stored elements in Compressed Sparse Row format>"
      ]
     },
     "execution_count": 7,
     "metadata": {},
     "output_type": "execute_result"
    }
   ],
   "source": [
    "train_X_Tfidf"
   ]
  },
  {
   "cell_type": "markdown",
   "id": "9649f04f",
   "metadata": {
    "papermill": {
     "duration": 0.004833,
     "end_time": "2022-10-12T10:58:00.637800",
     "exception": false,
     "start_time": "2022-10-12T10:58:00.632967",
     "status": "completed"
    },
    "tags": []
   },
   "source": [
    "## Linear kernel"
   ]
  },
  {
   "cell_type": "code",
   "execution_count": 8,
   "id": "9817a25b",
   "metadata": {
    "execution": {
     "iopub.execute_input": "2022-10-12T10:58:00.653868Z",
     "iopub.status.busy": "2022-10-12T10:58:00.653043Z",
     "iopub.status.idle": "2022-10-12T10:58:00.762547Z",
     "shell.execute_reply": "2022-10-12T10:58:00.761311Z"
    },
    "papermill": {
     "duration": 0.122288,
     "end_time": "2022-10-12T10:58:00.764927",
     "exception": false,
     "start_time": "2022-10-12T10:58:00.642639",
     "status": "completed"
    },
    "tags": []
   },
   "outputs": [
    {
     "data": {
      "text/plain": [
       "SVC(kernel='linear')"
      ]
     },
     "execution_count": 8,
     "metadata": {},
     "output_type": "execute_result"
    }
   ],
   "source": [
    "svm_model = SVC(kernel='linear')\n",
    "svm_model.fit(train_X_Tfidf, train['label'].iloc[0:train_num])"
   ]
  },
  {
   "cell_type": "code",
   "execution_count": 9,
   "id": "c39c309b",
   "metadata": {
    "execution": {
     "iopub.execute_input": "2022-10-12T10:58:00.776799Z",
     "iopub.status.busy": "2022-10-12T10:58:00.776420Z",
     "iopub.status.idle": "2022-10-12T10:58:58.312508Z",
     "shell.execute_reply": "2022-10-12T10:58:58.311480Z"
    },
    "papermill": {
     "duration": 57.545209,
     "end_time": "2022-10-12T10:58:58.315377",
     "exception": false,
     "start_time": "2022-10-12T10:58:00.770168",
     "status": "completed"
    },
    "tags": []
   },
   "outputs": [],
   "source": [
    "train_predicted = svm_model.predict(train_X_Tfidf)\n",
    "test_predicted = svm_model.predict(test_X_Tfidf)"
   ]
  },
  {
   "cell_type": "code",
   "execution_count": 10,
   "id": "da6ba1d3",
   "metadata": {
    "execution": {
     "iopub.execute_input": "2022-10-12T10:58:58.328222Z",
     "iopub.status.busy": "2022-10-12T10:58:58.327832Z",
     "iopub.status.idle": "2022-10-12T10:58:58.587636Z",
     "shell.execute_reply": "2022-10-12T10:58:58.586423Z"
    },
    "papermill": {
     "duration": 0.270572,
     "end_time": "2022-10-12T10:58:58.591507",
     "exception": false,
     "start_time": "2022-10-12T10:58:58.320935",
     "status": "completed"
    },
    "tags": []
   },
   "outputs": [
    {
     "name": "stdout",
     "output_type": "stream",
     "text": [
      "Linear kernel\n",
      "Test acc: 0.72119\n",
      "Test F1: 0.7213376910237573\n"
     ]
    }
   ],
   "source": [
    "print('Linear kernel')\n",
    "print('Test acc: {}'.format(accuracy_score(test['label'], test_predicted )))\n",
    "print('Test F1: {}'.format(f1_score(test['label'], test_predicted)))"
   ]
  },
  {
   "cell_type": "markdown",
   "id": "c0e7f0a4",
   "metadata": {
    "papermill": {
     "duration": 0.005163,
     "end_time": "2022-10-12T10:58:58.602670",
     "exception": false,
     "start_time": "2022-10-12T10:58:58.597507",
     "status": "completed"
    },
    "tags": []
   },
   "source": [
    "## Polynomial kernel"
   ]
  },
  {
   "cell_type": "code",
   "execution_count": 11,
   "id": "1693524b",
   "metadata": {
    "execution": {
     "iopub.execute_input": "2022-10-12T10:58:58.615500Z",
     "iopub.status.busy": "2022-10-12T10:58:58.614478Z",
     "iopub.status.idle": "2022-10-12T10:58:58.711295Z",
     "shell.execute_reply": "2022-10-12T10:58:58.710174Z"
    },
    "papermill": {
     "duration": 0.106062,
     "end_time": "2022-10-12T10:58:58.713913",
     "exception": false,
     "start_time": "2022-10-12T10:58:58.607851",
     "status": "completed"
    },
    "tags": []
   },
   "outputs": [
    {
     "data": {
      "text/plain": [
       "SVC(kernel='poly')"
      ]
     },
     "execution_count": 11,
     "metadata": {},
     "output_type": "execute_result"
    }
   ],
   "source": [
    "svm_model = SVC(kernel='poly')\n",
    "svm_model.fit(train_X_Tfidf, train['label'].iloc[0:train_num])"
   ]
  },
  {
   "cell_type": "code",
   "execution_count": 12,
   "id": "8441c262",
   "metadata": {
    "execution": {
     "iopub.execute_input": "2022-10-12T10:58:58.726668Z",
     "iopub.status.busy": "2022-10-12T10:58:58.726306Z",
     "iopub.status.idle": "2022-10-12T11:00:02.976374Z",
     "shell.execute_reply": "2022-10-12T11:00:02.975071Z"
    },
    "papermill": {
     "duration": 64.260329,
     "end_time": "2022-10-12T11:00:02.979818",
     "exception": false,
     "start_time": "2022-10-12T10:58:58.719489",
     "status": "completed"
    },
    "tags": []
   },
   "outputs": [],
   "source": [
    "train_predicted = svm_model.predict(train_X_Tfidf)\n",
    "test_predicted = svm_model.predict(test_X_Tfidf)"
   ]
  },
  {
   "cell_type": "code",
   "execution_count": 13,
   "id": "a62f0d66",
   "metadata": {
    "execution": {
     "iopub.execute_input": "2022-10-12T11:00:02.994334Z",
     "iopub.status.busy": "2022-10-12T11:00:02.993899Z",
     "iopub.status.idle": "2022-10-12T11:00:03.246339Z",
     "shell.execute_reply": "2022-10-12T11:00:03.244443Z"
    },
    "papermill": {
     "duration": 0.262432,
     "end_time": "2022-10-12T11:00:03.248691",
     "exception": false,
     "start_time": "2022-10-12T11:00:02.986259",
     "status": "completed"
    },
    "tags": []
   },
   "outputs": [
    {
     "name": "stdout",
     "output_type": "stream",
     "text": [
      "Polynomial kernel\n",
      "Test acc: 0.6175825\n",
      "Test F1: 0.6949670672832453\n"
     ]
    }
   ],
   "source": [
    "print('Polynomial kernel')\n",
    "print('Test acc: {}'.format(accuracy_score(test['label'], test_predicted )))\n",
    "print('Test F1: {}'.format(f1_score(test['label'], test_predicted)))"
   ]
  },
  {
   "cell_type": "markdown",
   "id": "f2d4e292",
   "metadata": {
    "papermill": {
     "duration": 0.005304,
     "end_time": "2022-10-12T11:00:03.260091",
     "exception": false,
     "start_time": "2022-10-12T11:00:03.254787",
     "status": "completed"
    },
    "tags": []
   },
   "source": [
    "## Sigmoid kernel"
   ]
  },
  {
   "cell_type": "code",
   "execution_count": 14,
   "id": "cc060384",
   "metadata": {
    "execution": {
     "iopub.execute_input": "2022-10-12T11:00:03.273421Z",
     "iopub.status.busy": "2022-10-12T11:00:03.273005Z",
     "iopub.status.idle": "2022-10-12T11:00:03.362692Z",
     "shell.execute_reply": "2022-10-12T11:00:03.361424Z"
    },
    "papermill": {
     "duration": 0.099018,
     "end_time": "2022-10-12T11:00:03.365037",
     "exception": false,
     "start_time": "2022-10-12T11:00:03.266019",
     "status": "completed"
    },
    "tags": []
   },
   "outputs": [
    {
     "data": {
      "text/plain": [
       "SVC(kernel='sigmoid')"
      ]
     },
     "execution_count": 14,
     "metadata": {},
     "output_type": "execute_result"
    }
   ],
   "source": [
    "svm_model = SVC(kernel='sigmoid')\n",
    "svm_model.fit(train_X_Tfidf, train['label'].iloc[0:train_num])"
   ]
  },
  {
   "cell_type": "code",
   "execution_count": 15,
   "id": "057ff60e",
   "metadata": {
    "execution": {
     "iopub.execute_input": "2022-10-12T11:00:03.379232Z",
     "iopub.status.busy": "2022-10-12T11:00:03.378244Z",
     "iopub.status.idle": "2022-10-12T11:01:01.096597Z",
     "shell.execute_reply": "2022-10-12T11:01:01.095555Z"
    },
    "papermill": {
     "duration": 57.729247,
     "end_time": "2022-10-12T11:01:01.100164",
     "exception": false,
     "start_time": "2022-10-12T11:00:03.370917",
     "status": "completed"
    },
    "tags": []
   },
   "outputs": [],
   "source": [
    "train_predicted = svm_model.predict(train_X_Tfidf)\n",
    "test_predicted = svm_model.predict(test_X_Tfidf)"
   ]
  },
  {
   "cell_type": "code",
   "execution_count": 16,
   "id": "5387fb5d",
   "metadata": {
    "execution": {
     "iopub.execute_input": "2022-10-12T11:01:01.114848Z",
     "iopub.status.busy": "2022-10-12T11:01:01.114082Z",
     "iopub.status.idle": "2022-10-12T11:01:01.370951Z",
     "shell.execute_reply": "2022-10-12T11:01:01.369364Z"
    },
    "papermill": {
     "duration": 0.266755,
     "end_time": "2022-10-12T11:01:01.373655",
     "exception": false,
     "start_time": "2022-10-12T11:01:01.106900",
     "status": "completed"
    },
    "tags": []
   },
   "outputs": [
    {
     "name": "stdout",
     "output_type": "stream",
     "text": [
      "Sigmoid kernel\n",
      "Test acc: 0.7221925\n",
      "Test F1: 0.723910467118356\n"
     ]
    }
   ],
   "source": [
    "print('Sigmoid kernel')\n",
    "print('Test acc: {}'.format(accuracy_score(test['label'], test_predicted )))\n",
    "print('Test F1: {}'.format(f1_score(test['label'], test_predicted)))"
   ]
  }
 ],
 "metadata": {
  "kernelspec": {
   "display_name": "Python 3",
   "language": "python",
   "name": "python3"
  },
  "language_info": {
   "codemirror_mode": {
    "name": "ipython",
    "version": 3
   },
   "file_extension": ".py",
   "mimetype": "text/x-python",
   "name": "python",
   "nbconvert_exporter": "python",
   "pygments_lexer": "ipython3",
   "version": "3.7.12"
  },
  "papermill": {
   "default_parameters": {},
   "duration": 395.864417,
   "end_time": "2022-10-12T11:01:03.108947",
   "environment_variables": {},
   "exception": null,
   "input_path": "__notebook__.ipynb",
   "output_path": "__notebook__.ipynb",
   "parameters": {},
   "start_time": "2022-10-12T10:54:27.244530",
   "version": "2.3.4"
  }
 },
 "nbformat": 4,
 "nbformat_minor": 5
}
