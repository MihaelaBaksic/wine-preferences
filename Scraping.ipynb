{
 "cells": [
  {
   "cell_type": "code",
   "execution_count": 18,
   "metadata": {},
   "outputs": [
    {
     "name": "stdout",
     "output_type": "stream",
     "text": [
      "Enter Twitter HashTag to search for\n",
      "#wine\n",
      "Scraping has completed!\n"
     ]
    }
   ],
   "source": [
    "# Python Script to Extract tweets of a\n",
    "# particular Hashtag using Tweepy and Pandas\n",
    "\n",
    "# import modules\n",
    "import pandas as pd\n",
    "import tweepy\n",
    "\n",
    "# function to display data of each tweet\n",
    "def printtweetdata(n, ith_tweet):\n",
    "    print()\n",
    "    print(f\"Tweet {n}:\")\n",
    "    print(f\"Username:{ith_tweet[0]}\")\n",
    "    print(f\"Description:{ith_tweet[1]}\")\n",
    "    print(f\"Date:{ith_tweet[2]}\")\n",
    "    print(f\"Location:{ith_tweet[3]}\")\n",
    "    print(f\"Following Count:{ith_tweet[4]}\")\n",
    "    print(f\"Follower Count:{ith_tweet[5]}\")\n",
    "    print(f\"Total Tweets:{ith_tweet[6]}\")\n",
    "    print(f\"Retweet:{ith_tweet[7]}\")\n",
    "    print(f\"Retweet Count:{ith_tweet[8]}\")\n",
    "    print(f\"Tweet Text:{ith_tweet[9]}\")\n",
    "    print(f\"Hashtags Used:{ith_tweet[10]}\")\n",
    "\n",
    "\n",
    "# function to perform data extraction\n",
    "def scrape(words, numtweet):\n",
    "\n",
    "    # Creating DataFrame using pandas\n",
    "    db = pd.DataFrame(columns=['username',\n",
    "                               'description',\n",
    "                               'date',\n",
    "                               'location',\n",
    "                               'following',\n",
    "                               'followers',\n",
    "                               'totaltweets',\n",
    "                               'retweet',\n",
    "                               'retweetcount',\n",
    "                               'text',\n",
    "                               'hashtags'])\n",
    "\n",
    "    # We are using .Cursor() to search\n",
    "    # through twitter for the required tweets.\n",
    "    # The number of tweets can be\n",
    "    # restricted using .items(number of tweets)\n",
    "    tweets = tweepy.Cursor(api.search,\n",
    "                           words, lang=\"en\",\n",
    "                           tweet_mode='extended').items(numtweet)\n",
    "\n",
    "\n",
    "    # .Cursor() returns an iterable object. Each item in\n",
    "    # the iterator has various attributes\n",
    "    # that you can access to\n",
    "    # get information about each tweet\n",
    "    list_tweets = [tweet for tweet in tweets]\n",
    "\n",
    "    # Counter to maintain Tweet Count\n",
    "    i = 1\n",
    "\n",
    "    # we will iterate over each tweet in the\n",
    "    # list for extracting information about each tweet\n",
    "    for tweet in list_tweets:\n",
    "        username = tweet.user.id\n",
    "        description = tweet.user.description\n",
    "        date = tweet.created_at\n",
    "        location = tweet.user.location\n",
    "        following = tweet.user.friends_count\n",
    "        followers = tweet.user.followers_count\n",
    "        totaltweets = tweet.user.statuses_count\n",
    "        retweet = tweet.retweeted\n",
    "        retweetcount = tweet.retweet_count\n",
    "        hashtags = tweet.entities['hashtags']\n",
    "\n",
    "        # Retweets can be distinguished by\n",
    "        # a retweeted_status attribute,\n",
    "        # in case it is an invalid reference,\n",
    "        # except block will be executed\n",
    "        try:\n",
    "            text = tweet.retweeted_status.full_text\n",
    "        except AttributeError:\n",
    "            text = tweet.full_text\n",
    "            \n",
    "        hashtext = list()\n",
    "        for j in range(0, len(hashtags)):\n",
    "            hashtext.append(hashtags[j]['text'])\n",
    "\n",
    "        # Here we are appending all the\n",
    "        # extracted information in the DataFrame\n",
    "        ith_tweet = [username, description, date,\n",
    "                     location, following,\n",
    "                     followers, totaltweets, retweet,\n",
    "                     retweetcount, text, hashtext]\n",
    "        db.loc[len(db)] = ith_tweet\n",
    "\n",
    "        # Function call to print tweet data on screen\n",
    "        #printtweetdata(i, ith_tweet)\n",
    "        i = i+1\n",
    "    filename = 'scraped_tweets_wine.json'\n",
    "\n",
    "    # we will save our database as a JSON file.\n",
    "    #db.to_csv(filename)\n",
    "    db.to_json(filename)\n",
    "    \n",
    "\n",
    "if __name__ == '__main__':\n",
    "\n",
    "    # Enter your own credentials obtained\n",
    "    # from your developer account\n",
    "    consumer_key = \"r17GTcpVsspQvrMS1Fdc5eSHL\"\n",
    "    consumer_secret = \"lv3g8G3ofV7bFCgsE9WsWyqycEx8YMbz8gX6CfohHJfeeUeOai\"\n",
    "    access_key = \"3033411431-GG6GzMZ6LeUsGFix2Sont74YNIcA4D0tjsZaG9C\"\n",
    "    access_secret = \"rEhk5qumk9OlfOXhhyXmWFOz3zuiFhwkIZZfSFNm5L7A9\"\n",
    "\n",
    "\n",
    "    auth = tweepy.OAuthHandler(consumer_key, consumer_secret)\n",
    "    auth.set_access_token(access_key, access_secret)\n",
    "    api = tweepy.API(auth, wait_on_rate_limit=True,wait_on_rate_limit_notify=True)\n",
    "\n",
    "    # Enter Hashtag and initial date\n",
    "    print(\"Enter Twitter HashTag to search for\")\n",
    "    words = input()\n",
    "    \"\"\"print(\"Enter Date since The Tweets are required in yyyy-mm--dd\")\n",
    "    date_since = input()\"\"\"\n",
    "    \n",
    "    # number of tweets you want to extract in one run\n",
    "    numtweet = 1000\n",
    "    scrape(words, numtweet)\n",
    "    print('Scraping has completed!')\n"
   ]
  },
  {
   "cell_type": "code",
   "execution_count": 15,
   "metadata": {},
   "outputs": [
    {
     "data": {
      "text/plain": [
       "67"
      ]
     },
     "execution_count": 15,
     "metadata": {},
     "output_type": "execute_result"
    }
   ],
   "source": [
    "# Read scraped_tweets.csv\n",
    "import pandas as pd\n",
    "data = pd.read_json(\"scraped_tweets_wine.json\")\n",
    "len(data)"
   ]
  },
  {
   "cell_type": "code",
   "execution_count": 18,
   "metadata": {},
   "outputs": [],
   "source": [
    "consumer_key = \"r17GTcpVsspQvrMS1Fdc5eSHL\"\n",
    "consumer_secret = \"lv3g8G3ofV7bFCgsE9WsWyqycEx8YMbz8gX6CfohHJfeeUeOai\"\n",
    "access_key = \"3033411431-GG6GzMZ6LeUsGFix2Sont74YNIcA4D0tjsZaG9C\"\n",
    "access_secret = \"rEhk5qumk9OlfOXhhyXmWFOz3zuiFhwkIZZfSFNm5L7A9\"\n",
    "\n",
    "auth = tweepy.OAuthHandler(consumer_key, consumer_secret)\n",
    "auth.set_access_token(access_key, access_secret)\n",
    "api = tweepy.API(auth)\n",
    "\n",
    "keywords = '#wine'\n",
    "limit = 10\n",
    "\n",
    "tweets = tweepy.Cursor(api.search, q = keywords, lang = 'en',\n",
    "                       tweet_mode = 'extended').items(limit)\n",
    "\n",
    "\n",
    "# Create DataFrame\n",
    "columns = ['User', 'date', 'Tweet', 'Hashtags']\n",
    "data = []\n",
    "\n",
    "for tweet in tweets:\n",
    "    data.append([tweet.user.screen_name, tweet.created_at, tweet.full_text, tweet.entities['hashtags']])\n",
    "    \n",
    "df = pd.DataFrame(data, columns=columns)"
   ]
  },
  {
   "cell_type": "code",
   "execution_count": 24,
   "metadata": {},
   "outputs": [
    {
     "data": {
      "text/plain": [
       "\"DAY 13 OF MY LIBRE SENSOR \\n29 Sept\\n\\nBREAKFAST\\nLow carb 'Megga roll' with Heck pork sausage\\n\\nLUNCH\\na FATT raspberry and almond biscuit bar\\n\\nDINNER\\nIndian take away and 🍷 \\n\\nhttps://t.co/akao14gOWo\\n\\n#t2d #diabetes #lowcarb #Keto #indianfood #sausages #bread #wine https://t.co/mQRzAQU46J\""
      ]
     },
     "execution_count": 24,
     "metadata": {},
     "output_type": "execute_result"
    }
   ],
   "source": [
    "df['Tweet'][1]"
   ]
  }
 ],
 "metadata": {
  "kernelspec": {
   "display_name": "Python 3",
   "language": "python",
   "name": "python3"
  },
  "language_info": {
   "codemirror_mode": {
    "name": "ipython",
    "version": 3
   },
   "file_extension": ".py",
   "mimetype": "text/x-python",
   "name": "python",
   "nbconvert_exporter": "python",
   "pygments_lexer": "ipython3",
   "version": "3.7.3"
  }
 },
 "nbformat": 4,
 "nbformat_minor": 2
}
