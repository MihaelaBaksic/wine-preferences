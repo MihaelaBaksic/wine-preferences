{
 "cells": [
  {
   "cell_type": "code",
   "execution_count": 17,
   "metadata": {},
   "outputs": [],
   "source": [
    "# import modules\n",
    "import pandas as pd\n",
    "import tweepy\n",
    "import datetime"
   ]
  },
  {
   "cell_type": "markdown",
   "metadata": {},
   "source": [
    "### Extraction"
   ]
  },
  {
   "cell_type": "code",
   "execution_count": 18,
   "metadata": {},
   "outputs": [
    {
     "name": "stdout",
     "output_type": "stream",
     "text": [
      "Enter Twitter HashTag to search for\n",
      "Cabernet OR Sauvignon\n",
      "filename to store the tweets WITHOUT .json (ex. 'scraped_tweets')\n",
      "scraped_tweets_cabernetsauvignon\n"
     ]
    },
    {
     "name": "stderr",
     "output_type": "stream",
     "text": [
      "Rate limit reached. Sleeping for: 640\n",
      "Rate limit reached. Sleeping for: 726\n",
      "Rate limit reached. Sleeping for: 753\n"
     ]
    },
    {
     "name": "stdout",
     "output_type": "stream",
     "text": [
      "Scraping has completed!\n"
     ]
    }
   ],
   "source": [
    "# Python Script to Extract tweets of a\n",
    "# particular Hashtag using Tweepy and Pandas\n",
    "\n",
    "# function to display data of each tweet\n",
    "def printtweetdata(n, ith_tweet):\n",
    "    print()\n",
    "    print(f\"Tweet {n}:\")\n",
    "    print(f\"Username:{ith_tweet[0]}\")\n",
    "    print(f\"Description:{ith_tweet[1]}\")\n",
    "    print(f\"Date:{ith_tweet[2]}\")\n",
    "    print(f\"Location:{ith_tweet[3]}\")\n",
    "    print(f\"Following Count:{ith_tweet[4]}\")\n",
    "    print(f\"Follower Count:{ith_tweet[5]}\")\n",
    "    print(f\"Total Tweets:{ith_tweet[6]}\")\n",
    "    print(f\"Retweet:{ith_tweet[7]}\")\n",
    "    print(f\"Retweet Count:{ith_tweet[8]}\")\n",
    "    print(f\"Tweet Text:{ith_tweet[9]}\")\n",
    "    print(f\"Hashtags Used:{ith_tweet[10]}\")\n",
    "\n",
    "\n",
    "# function to perform data extraction\n",
    "def scrape(words, numtweet, filename, StartDate, EndDate):\n",
    "\n",
    "    # Creating DataFrame using pandas\n",
    "    db = pd.DataFrame(columns=['username',\n",
    "                               'description',\n",
    "                               'date',\n",
    "                               'location',\n",
    "                               'following',\n",
    "                               'followers',\n",
    "                               'totaltweets',\n",
    "                               'retweet',\n",
    "                               'retweetcount',\n",
    "                               'text',\n",
    "                               'hashtags'])\n",
    "\n",
    "    # We are using .Cursor() to search\n",
    "    # through twitter for the required tweets.\n",
    "    # The number of tweets can be\n",
    "    # restricted using .items(number of tweets)\n",
    "    tweets = tweepy.Cursor(api.search,\n",
    "                           words, lang=\"en\",\n",
    "                           since = StartDate.date(),\n",
    "                           until = EndDate.date(),\n",
    "                           tweet_mode='extended').items(numtweet)\n",
    "\n",
    "\n",
    "    # .Cursor() returns an iterable object. Each item in\n",
    "    # the iterator has various attributes\n",
    "    # that you can access to\n",
    "    # get information about each tweet\n",
    "    list_tweets = [tweet for tweet in tweets]\n",
    "\n",
    "    # Counter to maintain Tweet Count\n",
    "    i = 1\n",
    "\n",
    "    # we will iterate over each tweet in the\n",
    "    # list for extracting information about each tweet\n",
    "    for tweet in list_tweets:\n",
    "        username = tweet.user.id\n",
    "        description = tweet.user.description\n",
    "        date = tweet.created_at\n",
    "        location = tweet.user.location\n",
    "        following = tweet.user.friends_count\n",
    "        followers = tweet.user.followers_count\n",
    "        totaltweets = tweet.user.statuses_count\n",
    "        retweet = tweet.retweeted\n",
    "        retweetcount = tweet.retweet_count\n",
    "        hashtags = tweet.entities['hashtags']\n",
    "\n",
    "        # Retweets can be distinguished by\n",
    "        # a retweeted_status attribute,\n",
    "        # in case it is an invalid reference,\n",
    "        # except block will be executed\n",
    "        try:\n",
    "            text = tweet.retweeted_status.full_text\n",
    "        except AttributeError:\n",
    "            text = tweet.full_text\n",
    "            \n",
    "        hashtext = list()\n",
    "        for j in range(0, len(hashtags)):\n",
    "            hashtext.append(hashtags[j]['text'])\n",
    "\n",
    "        # Here we are appending all the\n",
    "        # extracted information in the DataFrame\n",
    "        ith_tweet = [username, description, date,\n",
    "                     location, following,\n",
    "                     followers, totaltweets, retweet,\n",
    "                     retweetcount, text, hashtext]\n",
    "        db.loc[len(db)] = ith_tweet\n",
    "\n",
    "        # Function call to print tweet data on screen\n",
    "        #printtweetdata(i, ith_tweet)\n",
    "        i = i+1\n",
    "        \n",
    "        if i%5000 == 0: # safe point\n",
    "            f = filename + '_' + str(i) + '.json'\n",
    "            db.to_json(f)\n",
    "\n",
    "    # we will save our database as a JSON file.\n",
    "    #db.to_csv(filename)\n",
    "    f = 'scraped_tweets/'+filename+'.json'\n",
    "    db.to_json(f)\n",
    "    \n",
    "\n",
    "if __name__ == '__main__':\n",
    "\n",
    "    # Enter your own credentials obtained\n",
    "    # from your developer account\n",
    "    consumer_key = \"r17GTcpVsspQvrMS1Fdc5eSHL\"\n",
    "    consumer_secret = \"lv3g8G3ofV7bFCgsE9WsWyqycEx8YMbz8gX6CfohHJfeeUeOai\"\n",
    "    access_key = \"3033411431-GG6GzMZ6LeUsGFix2Sont74YNIcA4D0tjsZaG9C\"\n",
    "    access_secret = \"rEhk5qumk9OlfOXhhyXmWFOz3zuiFhwkIZZfSFNm5L7A9\"\n",
    "\n",
    "\n",
    "    auth = tweepy.OAuthHandler(consumer_key, consumer_secret)\n",
    "    auth.set_access_token(access_key, access_secret)\n",
    "    api = tweepy.API(auth, wait_on_rate_limit=True,wait_on_rate_limit_notify=True)\n",
    "\n",
    "    # Enter Hashtag and initial date\n",
    "    print(\"Enter Twitter HashTag to search for\")\n",
    "    words = input()\n",
    "    print(\"filename to store the tweets WITHOUT .json (ex. 'scraped_tweets')\")\n",
    "    filename = input()\n",
    "    \n",
    "    StartDate = datetime.datetime(2022, 9, 25)\n",
    "    EndDate = datetime.datetime(2022, 10, 7)\n",
    "    \n",
    "    # number of tweets you want to extract in one run\n",
    "    numtweet = 10000\n",
    "    scrape(words, numtweet, filename, StartDate, EndDate)\n",
    "    print('Scraping has completed!')\n"
   ]
  },
  {
   "cell_type": "code",
   "execution_count": 19,
   "metadata": {},
   "outputs": [
    {
     "data": {
      "text/plain": [
       "10000"
      ]
     },
     "execution_count": 19,
     "metadata": {},
     "output_type": "execute_result"
    }
   ],
   "source": [
    "# Read scraped_tweets.csv\n",
    "import pandas as pd\n",
    "data = pd.read_json(\"scraped_tweets/scraped_tweets_cabernetsauvignon.json\")\n",
    "len(data)"
   ]
  },
  {
   "cell_type": "code",
   "execution_count": 14,
   "metadata": {},
   "outputs": [
    {
     "data": {
      "text/plain": [
       "0      2022-10-06 08:58:34\n",
       "1      2022-10-06 08:57:57\n",
       "2      2022-10-06 08:56:00\n",
       "3      2022-10-06 08:55:14\n",
       "4      2022-10-06 08:54:29\n",
       "               ...        \n",
       "5166   2022-10-03 00:00:53\n",
       "5167   2022-10-03 00:00:38\n",
       "5168   2022-10-03 00:00:36\n",
       "5169   2022-10-03 00:00:09\n",
       "5170   2022-10-03 00:00:08\n",
       "Name: date, Length: 5171, dtype: datetime64[ns]"
      ]
     },
     "execution_count": 14,
     "metadata": {},
     "output_type": "execute_result"
    }
   ],
   "source": [
    "data['date']"
   ]
  }
 ],
 "metadata": {
  "kernelspec": {
   "display_name": "Python 3",
   "language": "python",
   "name": "python3"
  },
  "language_info": {
   "codemirror_mode": {
    "name": "ipython",
    "version": 3
   },
   "file_extension": ".py",
   "mimetype": "text/x-python",
   "name": "python",
   "nbconvert_exporter": "python",
   "pygments_lexer": "ipython3",
   "version": "3.7.3"
  }
 },
 "nbformat": 4,
 "nbformat_minor": 2
}
